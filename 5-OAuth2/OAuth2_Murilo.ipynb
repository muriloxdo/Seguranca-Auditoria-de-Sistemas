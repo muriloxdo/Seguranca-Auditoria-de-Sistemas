{
 "cells": [
  {
   "cell_type": "markdown",
   "metadata": {},
   "source": [
    "# OAuth 2.0"
   ]
  },
  {
   "cell_type": "markdown",
   "metadata": {},
   "source": [
    "### O que é o OAuth 2.0? \n",
    "\n",
    "<p> OAuth 2.0 é um protocolo de autorização para API’s web que permite o usuário/aplicação ter um acesso limitado a uma outra aplicação, sem a necessidade de expor suas credencias.</p>"
   ]
  },
  {
   "cell_type": "markdown",
   "metadata": {},
   "source": [
    "### Onde é utilizado o OAuth 2.0?\n",
    "\n",
    "<p> OAuth 2.0 é muito utilizado em telas de login por exemplo, mas não somente isso, também é utilizado em diversos tipos de aplicação. Um exemplo simples onde nós damos permissão a uma aplicação usar recursos da nossa aplicação seria quando utilizamos o botão “Logar com o Google” em alguma aplicação para não precisar preencher a ficha cadastrar manualmente. A aplicação tem acesso limitado às informações de usuários através de um protocolo HTTP.</p>"
   ]
  },
  {
   "cell_type": "markdown",
   "metadata": {},
   "source": [
    "### Quais são os papéis do OAuth 2.0?\n",
    "\n",
    "<p> Existe nesse caso, 4 papéis envolvidos na comunicação da maioria dos fluxos de comunicação. OAuth foi construído em cima deles: Resource Owner, Client, Resource Server e Authorization Server. </p>"
   ]
  },
  {
   "cell_type": "markdown",
   "metadata": {},
   "source": [
    "## O que é cada papél?"
   ]
  },
  {
   "cell_type": "markdown",
   "metadata": {},
   "source": [
    "### Client:\n",
    "\n",
    "<p>É quem interage com o Resource Owner, solicitando os dados protegidos.</p>\n"
   ]
  },
  {
   "cell_type": "markdown",
   "metadata": {},
   "source": [
    "### Resource Owner:\n",
    "\n",
    "<p> Entidade que controla e concede acesso aos dados protegidos. </p>"
   ]
  },
  {
   "cell_type": "markdown",
   "metadata": {},
   "source": [
    "### Authorization Server: \n",
    "\n",
    "<p> Servidor responsável pela geração dos Tokens de acesso, gerando Token para permitir o Client acesse os dados específicos, permitidos pelo Resource Owner. </p>"
   ]
  },
  {
   "cell_type": "markdown",
   "metadata": {},
   "source": [
    "### Resource Server:\n",
    "\n",
    "<p> Servidor onde a API está exposta para acesso aos dados. Ele é quem recebe as requisições. Necessário um Token para acesso. </p>"
   ]
  },
  {
   "cell_type": "markdown",
   "metadata": {},
   "source": [
    "## Fluxo de Protocólo: "
   ]
  },
  {
   "cell_type": "markdown",
   "metadata": {},
   "source": [
    "<img src='fluxo-protocolo.png' />"
   ]
  },
  {
   "cell_type": "markdown",
   "metadata": {},
   "source": [
    "## O que é cada etapa?"
   ]
  },
  {
   "cell_type": "markdown",
   "metadata": {},
   "source": [
    "### Solicitação de Autorização\n",
    "A primeira etapa é quando o cliente (aplicação) solicita autorização para acessar recursos do servidor.\n"
   ]
  },
  {
   "cell_type": "markdown",
   "metadata": {},
   "source": [
    "### Concessão de Autorização\n",
    "\n",
    "Se o servidor do usuário autorizar a solicitação, o cliente recebe uma concessão de autorização."
   ]
  },
  {
   "cell_type": "markdown",
   "metadata": {},
   "source": [
    "### Concessão de Autorização\n",
    "\n",
    "Apresentando a autenticação de sua própria identidade e sua concessão de autorização, o cliente solicita um token de acesso para o servidor de autorização (API)."
   ]
  },
  {
   "cell_type": "markdown",
   "metadata": {},
   "source": [
    "### Token de Acesso\n",
    "\n",
    "Se sua identidade própria da aplicação e sua concessão de autorização for válida, o servidor de autorização (API) emite um token de acesso para a aplicação.\n"
   ]
  },
  {
   "cell_type": "markdown",
   "metadata": {},
   "source": [
    "### Token de Acesso\n",
    "\n",
    "Para solicitar o recurso do servidor recursos (API), basta o cliente apresentar seu token de acesso.\n",
    "\n"
   ]
  },
  {
   "cell_type": "markdown",
   "metadata": {},
   "source": [
    "### Recursos Protegidos\n",
    "\n",
    "Desde que o token de acesso seja válido, o servidor de recursos (API) fornece o recurso para o cliente"
   ]
  },
  {
   "cell_type": "markdown",
   "metadata": {},
   "source": [
    "## Tipos de Aplicação do Client"
   ]
  },
  {
   "cell_type": "markdown",
   "metadata": {},
   "source": [
    "### Confidential \n",
    "\n",
    "Capaz de manter a confidencialidade das suas credenciais."
   ]
  },
  {
   "cell_type": "markdown",
   "metadata": {},
   "source": [
    "### Public \n",
    "\n",
    "Incapazes de manter a confidencialidade das suas credenciais."
   ]
  },
  {
   "cell_type": "markdown",
   "metadata": {},
   "source": [
    "## Tipos de concessão:\n",
    "\n",
    "As quatro primeiras etapas são para a obtenção de uma concessão de autorização e token de acesso. O tipo depende do método utilizado para solicitar e do tipo suportado pela API. Os tipos são: Implicit, Authorization Code, Resource Owner Password Credentials e Client Credentials."
   ]
  },
  {
   "cell_type": "markdown",
   "metadata": {},
   "source": [
    "### Implicit \n",
    "É um fluxo de autorização simplificado. Utilizado em aplicativos móveis e web. Ao emitir um token de acesso, o authorization server não autentica o cliente. \n"
   ]
  },
  {
   "cell_type": "markdown",
   "metadata": {},
   "source": [
    "### Authorization Code\n",
    "É obtido usando um authorization server como intermediário. O cliente redireciona o usuário para um servidor de autorização."
   ]
  },
  {
   "cell_type": "markdown",
   "metadata": {},
   "source": [
    "### Resource Owner Password Credentials \n",
    "Quando o client solicita o usuário e senha diretamente, chamadas de confiáveis, aqueles pertencentes ao próprio serviço."
   ]
  },
  {
   "cell_type": "markdown",
   "metadata": {},
   "source": [
    "### Client Credentials\n",
    "\n",
    "Utilizado quando a aplicação client é protegida. Usadas com acesso à API de aplicativos."
   ]
  }
 ],
 "metadata": {
  "kernelspec": {
   "display_name": "Python 3",
   "language": "python",
   "name": "python3"
  },
  "language_info": {
   "codemirror_mode": {
    "name": "ipython",
    "version": 3
   },
   "file_extension": ".py",
   "mimetype": "text/x-python",
   "name": "python",
   "nbconvert_exporter": "python",
   "pygments_lexer": "ipython3",
   "version": "3.8.5"
  }
 },
 "nbformat": 4,
 "nbformat_minor": 4
}
