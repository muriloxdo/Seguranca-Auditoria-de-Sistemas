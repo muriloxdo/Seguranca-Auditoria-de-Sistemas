{
 "cells": [
  {
   "cell_type": "code",
   "execution_count": 2,
   "metadata": {},
   "outputs": [],
   "source": [
    "import heapq\n",
    "import os\n",
    "import numpy as np\n",
    "import math\n",
    "from collections import Counter\n",
    "MODULO = 256\n",
    "\n",
    "class entropyCoding:\n",
    "    def entropy(data):\n",
    "        freq = Counter(data)\n",
    "        accum = 0\n",
    "        #print(freq)\n",
    "        for i in freq:\n",
    "            calc = float(freq[i]) / float(len(data))\n",
    "            #print(\"calc: \", calc, \"freq: \", float(freq[i]) ,\"len: \", float(len(data)))\n",
    "            #print(\"accum: \", accum, \"log:\",(calc*math.log(calc,MODULO)), \"math:\",math.log(calc,MODULO))\n",
    "            accum = accum + (calc*math.log(calc,MODULO))\n",
    "            #print(\"accum:\",accum)\n",
    "        accum = accum * float(len(freq))\n",
    "        return -accum,freq\n",
    "\n",
    "    def openfile(name):\n",
    "        name = 'text.txt'\n",
    "        r = open(name,'rb').read()\n",
    "        data = np.array([t for t in r])\n",
    "        entropia, freq = entropy(data)\n",
    "\n",
    "        return (str(entropia))"
   ]
  },
  {
   "cell_type": "code",
   "execution_count": null,
   "metadata": {},
   "outputs": [],
   "source": []
  },
  {
   "cell_type": "code",
   "execution_count": null,
   "metadata": {},
   "outputs": [],
   "source": []
  }
 ],
 "metadata": {
  "kernelspec": {
   "display_name": "Python 3",
   "language": "python",
   "name": "python3"
  },
  "language_info": {
   "codemirror_mode": {
    "name": "ipython",
    "version": 3
   },
   "file_extension": ".py",
   "mimetype": "text/x-python",
   "name": "python",
   "nbconvert_exporter": "python",
   "pygments_lexer": "ipython3",
   "version": "3.8.5"
  }
 },
 "nbformat": 4,
 "nbformat_minor": 4
}
