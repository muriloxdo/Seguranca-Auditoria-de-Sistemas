{
 "cells": [
  {
   "cell_type": "code",
   "execution_count": 1,
   "metadata": {},
   "outputs": [
    {
     "name": "stdout",
     "output_type": "stream",
     "text": [
      "Entropia antes de huffman: 0.31229748608458385\n",
      "Compressed\n",
      "Entropia depois de huffman: 0.48385360248814185\n"
     ]
    }
   ],
   "source": [
    "from huffman import HuffmanCoding\n",
    "from entropy2 import entropyCoding\n",
    "\n",
    "path = \"sql.html\"\n",
    "\n",
    "e = entropyCoding(path)\n",
    "\n",
    "entropy = e.openfile()\n",
    "\n",
    "print(\"Entropia antes de huffman:\", entropy)\n",
    "\n",
    "h = HuffmanCoding(path)\n",
    "\n",
    "output_path = h.compress()\n",
    "\n",
    "e = entropyCoding(output_path)\n",
    "\n",
    "entropy = e.openfile()\n",
    "\n",
    "print(\"Entropia depois de huffman:\", entropy)\n"
   ]
  },
  {
   "cell_type": "code",
   "execution_count": null,
   "metadata": {},
   "outputs": [],
   "source": []
  }
 ],
 "metadata": {
  "kernelspec": {
   "display_name": "Python 3",
   "language": "python",
   "name": "python3"
  },
  "language_info": {
   "codemirror_mode": {
    "name": "ipython",
    "version": 3
   },
   "file_extension": ".py",
   "mimetype": "text/x-python",
   "name": "python",
   "nbconvert_exporter": "python",
   "pygments_lexer": "ipython3",
   "version": "3.8.5"
  }
 },
 "nbformat": 4,
 "nbformat_minor": 4
}
