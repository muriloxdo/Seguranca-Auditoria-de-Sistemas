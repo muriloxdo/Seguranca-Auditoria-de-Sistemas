{
 "cells": [
  {
   "cell_type": "code",
   "execution_count": 51,
   "metadata": {},
   "outputs": [
    {
     "name": "stdout",
     "output_type": "stream",
     "text": [
      "-> aaaaabcdd\n",
      "Number of characters in text string: 9\n",
      "\n",
      "Ascii \t Char \t Count \t inform.\n",
      "1.7999999999999998\n",
      "0.8479969065549499\n",
      "0.8479969065549499\n",
      "   97 \t     a \t     5 \t 0.85\n",
      "9.0\n",
      "3.169925001442312\n",
      "3.169925001442312\n",
      "   98 \t     b \t     1 \t 3.17\n",
      "9.0\n",
      "3.169925001442312\n",
      "3.169925001442312\n",
      "   99 \t     c \t     1 \t 3.17\n",
      "4.5\n",
      "2.169925001442312\n",
      "2.169925001442312\n",
      "  100 \t     d \t     2 \t 2.17\n",
      "\n",
      "Entropy of text: 0.83\n"
     ]
    }
   ],
   "source": [
    "import numpy as np\n",
    "text = 'aaaaaaaaaaabbbbbbbbbbbbbbbbcccccccccccccccccccccccadbcadbcabbcdbadcadbcbddabadbdcbdcbdacbadcbadcbdcabcadbadcbcdbadcbadcbdcabadcbdacbadcbdacbadcbdacbdcbdcbadcbdcabadcbadcbdcabadcbadcabdcbadcbadcbadcbdacbdacbadcbadcbadbadcbadcbadcbadbdacbadbcbdcabadcbdacbdacbcadbabdcabdcbadcbadcbadbcabdcabdcbadcbadcbaaaaaaaaaaabbbbbbbbbbbbbbbbcccccccccccccccccccccccadbcadbcabbcdbadcadbcbddabadbdcbdcbdacbadcbadcbdcabcadbadcbcdbadcbadcbdcabadcbdacbadcbdacbadcbdacbdcbdcbadcbdcabadcbadcbdcabadcbadcabdcbadcbadcbadcbdacbdacbadcbadcbadbadcbadcbadcbadbdacbadbcbdcabadcbdacbdacbcadbabdcabdcbadcbadcbadbcabdcabdcbadcbadcb'  #open(\"text.txt\",'rb').read()\n",
    "print ('->' , text)\n",
    "chars=list(text)\n",
    "length=len(chars)\n",
    "print (\"Number of characters in text string: %d\"%(length))\n",
    "dec=[ord(c) for c in chars]\n",
    "decset=set(dec)\n",
    "\n",
    "freqdic={}\n",
    "for c in decset:\n",
    "        freqdic[c]=dec.count(c)\n",
    "\n",
    "print (\"\\nAscii \\t Char \\t Count \\t inform.\")\n",
    "Entropy=0\n",
    "for c in decset:\n",
    "        prop=freqdic[c]/(1*length) #propability of character\n",
    "        print(1/prop)\n",
    "        print(np.log2(1/prop))\n",
    "        informationContent=np.log2(1.0/prop) #infromation content of character\n",
    "        print(informationContent)\n",
    "        Entropy+=prop*informationContent\n",
    "        print (\"%5d \\t %5s \\t %5d \\t %2.2f\" %(c, chr(c),freqdic[c],informationContent))\n",
    "\n",
    "print (\"\\nEntropy of text: %2.2f\"%(Entropy/2))"
   ]
  },
  {
   "cell_type": "code",
   "execution_count": null,
   "metadata": {},
   "outputs": [],
   "source": []
  }
 ],
 "metadata": {
  "kernelspec": {
   "display_name": "Python 3",
   "language": "python",
   "name": "python3"
  },
  "language_info": {
   "codemirror_mode": {
    "name": "ipython",
    "version": 3
   },
   "file_extension": ".py",
   "mimetype": "text/x-python",
   "name": "python",
   "nbconvert_exporter": "python",
   "pygments_lexer": "ipython3",
   "version": "3.8.5"
  }
 },
 "nbformat": 4,
 "nbformat_minor": 4
}
