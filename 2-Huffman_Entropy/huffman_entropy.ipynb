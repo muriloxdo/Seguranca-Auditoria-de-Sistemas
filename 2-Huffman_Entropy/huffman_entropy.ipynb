{
 "cells": [
  {
   "cell_type": "code",
   "execution_count": 6,
   "metadata": {},
   "outputs": [
    {
     "name": "stdout",
     "output_type": "stream",
     "text": [
      "Número de caracteres: 7825\n",
      "Entropia antes de huffman: 1.939921182231045\n",
      "\n",
      "Compactado com Huffman\n",
      "\n",
      "Número de caracteres: 4798\n",
      "Entropia depois de huffman: 2.297054877616641\n"
     ]
    }
   ],
   "source": [
    "from huffman import HuffmanCoding\n",
    "from entropy import entropyCoding\n",
    "\n",
    "path = \"sql.html\"\n",
    "\n",
    "e = entropyCoding(path)\n",
    "\n",
    "entropy = e.openfile()\n",
    "\n",
    "print(\"Entropia antes de huffman:\", entropy)\n",
    "\n",
    "h = HuffmanCoding(path)\n",
    "\n",
    "output_path = h.compress()\n",
    "\n",
    "e = entropyCoding(output_path)\n",
    "\n",
    "entropy = e.openfile()\n",
    "\n",
    "print(\"Entropia depois de huffman:\", entropy)\n"
   ]
  },
  {
   "cell_type": "code",
   "execution_count": null,
   "metadata": {},
   "outputs": [],
   "source": []
  }
 ],
 "metadata": {
  "kernelspec": {
   "display_name": "Python 3",
   "language": "python",
   "name": "python3"
  },
  "language_info": {
   "codemirror_mode": {
    "name": "ipython",
    "version": 3
   },
   "file_extension": ".py",
   "mimetype": "text/x-python",
   "name": "python",
   "nbconvert_exporter": "python",
   "pygments_lexer": "ipython3",
   "version": "3.8.5"
  }
 },
 "nbformat": 4,
 "nbformat_minor": 4
}
